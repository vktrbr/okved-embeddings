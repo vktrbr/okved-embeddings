{
 "cells": [
  {
   "cell_type": "code",
   "execution_count": 1,
   "metadata": {
    "pycharm": {
     "name": "#%%\n"
    }
   },
   "outputs": [],
   "source": [
    "import pandas as pd\n",
    "import numpy as np\n",
    "from help.preprocessing_okved import fix_okved\n",
    "import gc"
   ]
  },
  {
   "cell_type": "markdown",
   "metadata": {
    "pycharm": {
     "name": "#%% md\n"
    }
   },
   "source": [
    "## Без агрегирования нижних уровней"
   ]
  },
  {
   "cell_type": "code",
   "execution_count": 2,
   "metadata": {
    "pycharm": {
     "name": "#%%\n"
    }
   },
   "outputs": [
    {
     "data": {
      "text/plain": [
       "2637"
      ]
     },
     "execution_count": 2,
     "metadata": {},
     "output_type": "execute_result"
    }
   ],
   "source": [
    "okved_graph = pd.read_pickle('./data/okved_graph.pickle')\n",
    "okved_data = pd.read_csv('./data/okved_2014_w_sections.csv', index_col=0)\n",
    "# Словари id-шники - коды и коды - id-шники\n",
    "id_to_code = okved_data['native_code'].to_dict()\n",
    "id_to_code[0] = '0'\n",
    "code_to_id = {v: u for u, v in id_to_code.items()}\n",
    "\n",
    "# Обрезанные до максимум 1 точки коды\n",
    "new_id_to_code = {}\n",
    "for _id, code in id_to_code.items():\n",
    "    new_id_to_code[_id] = fix_okved(code[:5])\n",
    "\n",
    "pd.Series(new_id_to_code).map(len).value_counts()\n",
    "\n",
    "okved_graph.edges()[1].unique().__len__()"
   ]
  },
  {
   "cell_type": "markdown",
   "metadata": {
    "pycharm": {
     "name": "#%% md\n"
    }
   },
   "source": [
    "### Применим RGCN"
   ]
  },
  {
   "cell_type": "code",
   "execution_count": 3,
   "metadata": {
    "pycharm": {
     "name": "#%%\n"
    }
   },
   "outputs": [],
   "source": [
    "from models.rgcn import *\n",
    "from help.negative_sampler import NegativeSamplerRel"
   ]
  },
  {
   "cell_type": "code",
   "execution_count": null,
   "outputs": [],
   "source": [
    "num_negs = 1\n",
    "neg_share = True\n",
    "device = torch.device('cuda')\n",
    "num_hidden = 512\n",
    "n_emb = 256\n",
    "num_layers = 6\n",
    "regularizer = None\n",
    "num_bases = None\n",
    "dropout = 0.1\n",
    "lr = 0.001\n",
    "num_epochs = 1000\n",
    "best_loss = 1000000\n",
    "last_improvement = 0\n",
    "require_improvements = 50\n",
    "best_state = None\n",
    "n_rels = 3\n",
    "reg_param = 0.01"
   ],
   "metadata": {
    "collapsed": false,
    "pycharm": {
     "name": "#%%\n"
    }
   }
  },
  {
   "cell_type": "code",
   "execution_count": null,
   "outputs": [],
   "source": [
    "g = okved_graph.clone().to(device)\n",
    "\n",
    "nfeat = g.ndata['feat'].float().to(device)\n",
    "in_feats = nfeat.shape[1]\n",
    "n_edges = g.num_edges()\n",
    "\n",
    "bsize = 2 ** 14 * 3\n",
    "n_batch = n_edges // bsize  # Размер батча\n",
    "\n",
    "rgcn = RGCN(in_feats=in_feats,  # Размер тензора на узле\n",
    "            n_hidden=num_hidden,  # Количество скрытых слоев\n",
    "            n_classes=n_emb,  # Размер эмбеддинга \n",
    "            n_layers=num_layers,  # Количество слоев\n",
    "            activation=torch.nn.functional.relu,  # Функция активации\n",
    "            dropout=dropout,  \n",
    "            regularizer=regularizer,  # Regulazir для RGCN слоев. None, basis, и bdd\n",
    "            n_rels=n_rels,  # Количество типов связей\n",
    "            num_bases=num_bases  # Количество слагаемых в линейной комбинации\n",
    "           ).to(device)\n",
    "\n",
    "model = LinkPredictor(rgcn, n_rels=n_rels, reg_param=reg_param).to(device)\n",
    "sampler = NegativeSamplerRel(k=num_negs)\n",
    "optimizer = torch.optim.Adam(model.parameters(), lr=lr)\n",
    "scheduler = torch.optim.lr_scheduler.CosineAnnealingLR(optimizer, 10, eta_min=1e-7)"
   ],
   "metadata": {
    "collapsed": false,
    "pycharm": {
     "name": "#%%\n"
    }
   }
  },
  {
   "cell_type": "code",
   "execution_count": null,
   "outputs": [],
   "source": [
    "%%time\n",
    "for epoch in range(num_epochs):\n",
    "    epoch_loss = []\n",
    "    \n",
    "    for i in range(0, n_edges - 1, bsize):\n",
    "        \n",
    "        g_batch = g.edge_subgraph(list(range(i, min(i + bsize, n_edges))))\n",
    "        n_feat_batch = g_batch.ndata['feat'].float().to(device)\n",
    "        neg_graph = sampler(g_batch, device)\n",
    "        # Compute loss and prediction\n",
    "        pred = model(g_batch, n_feat_batch)\n",
    "        loss = model.get_loss(pred, g_batch, neg_graph)\n",
    "        epoch_loss.append(loss.item())\n",
    "        \n",
    "        optimizer.zero_grad()\n",
    "        loss.backward()\n",
    "        optimizer.step()\n",
    "        scheduler.step()\n",
    "        gc.collect()\n",
    "        torch.cuda.empty_cache()\n",
    "\n",
    "    loss = np.mean(epoch_loss)\n",
    "    if epoch % 100 == 99:\n",
    "        print(f'Epoch : {epoch + 1:02d}  |  Loss : {loss:.4f}')\n",
    "\n",
    "    if loss < best_loss:\n",
    "        best_loss = loss\n",
    "        last_improvement = 0\n",
    "        best_state = model.state_dict()\n",
    "    else:\n",
    "        last_improvement += 1\n",
    "\n",
    "    if last_improvement > require_improvements:\n",
    "        print(f\"No improvement found during the {require_improvements} last iterations, stopping optimization.\")\n",
    "        model.load_state_dict(best_state)\n",
    "        break"
   ],
   "metadata": {
    "collapsed": false,
    "pycharm": {
     "name": "#%%\n"
    }
   }
  },
  {
   "cell_type": "markdown",
   "source": [
    "### Валидация"
   ],
   "metadata": {
    "collapsed": false,
    "pycharm": {
     "name": "#%% md\n"
    }
   }
  },
  {
   "cell_type": "code",
   "execution_count": null,
   "outputs": [],
   "source": [
    "from sklearn.preprocessing import StandardScaler\n",
    "from sklearn.linear_model import LinearRegression\n",
    "from sklearn.manifold import TSNE\n",
    "from sklearn.model_selection import KFold\n",
    "from tqdm import tqdm\n",
    "\n",
    "embeddings_bert = np.load('./data/okved_embeddings.npy')\n",
    "okved_consumption = pd.read_csv('./data/okved_consumption.csv')"
   ],
   "metadata": {
    "collapsed": false,
    "pycharm": {
     "name": "#%%\n"
    }
   }
  },
  {
   "cell_type": "code",
   "execution_count": null,
   "outputs": [],
   "source": [
    "model.eval()\n",
    "model = model.to('cpu')\n",
    "torch.cuda.empty_cache()\n",
    "embeddings_model = model(g.cpu(), nfeat.cpu()).detach().numpy()[1:]\n",
    "\n",
    "embeddings_model_2d = TSNE(n_components=2, init='random').fit_transform(embeddings_model)\n",
    "embeddings_bert_2d = TSNE(n_components=2, init='random').fit_transform(embeddings_bert)"
   ],
   "metadata": {
    "collapsed": false,
    "pycharm": {
     "name": "#%%\n"
    }
   }
  },
  {
   "cell_type": "code",
   "execution_count": null,
   "outputs": [],
   "source": [
    "# Модель 128 скрытый слой, 10 слоев, 100 эпох, Модель: 0.04 ± 0.07\n",
    "# torch.save(model.state_dict(), './weights/model_128x10x256x100.pt')\n",
    "# torch.load('./weights/model_128x10x256x100.pt')\n",
    "\n",
    "# Модель 512 скрытый слой, 6 слоев, 639 эпох, Модель: 0.04 ± 0.07\n",
    "torch.save(model.state_dict(), './weights/model_512x6x256x639.pt')\n",
    "# torch.load('./weights/model_512x6x256x639.pt')"
   ],
   "metadata": {
    "collapsed": false,
    "pycharm": {
     "name": "#%%\n"
    }
   }
  },
  {
   "cell_type": "code",
   "execution_count": null,
   "outputs": [],
   "source": [
    "import plotly.express as px\n",
    "import plotly\n",
    "\n",
    "plotly.offline.init_notebook_mode(connected=True)\n",
    "sections = list(map(str, okved_data['section_id'].values))\n",
    "\n",
    "fig = px.scatter(x=embeddings_model_2d[:, 0], y=embeddings_model_2d[:, 1], color=sections,\n",
    "                 title='<b>TSNE embeddings. OUR MODEL</b>', hover_name=okved_data['name_section'])\n",
    "\n",
    "fig"
   ],
   "metadata": {
    "collapsed": false,
    "pycharm": {
     "name": "#%%\n"
    }
   }
  },
  {
   "cell_type": "code",
   "execution_count": null,
   "outputs": [],
   "source": [
    "fig = px.scatter(x=embeddings_bert_2d[:, 0], y=embeddings_bert_2d[:, 1], color=sections,\n",
    "                 title='<b>TSNE embeddings. BERT</b>', hover_name=okved_data['name_section'])\n",
    "\n",
    "fig"
   ],
   "metadata": {
    "collapsed": false,
    "pycharm": {
     "name": "#%%\n"
    }
   }
  },
  {
   "cell_type": "code",
   "execution_count": null,
   "outputs": [],
   "source": [
    "prov_indices = okved_consumption['okved_provider'].map(fix_okved).map(code_to_id)\n",
    "cons_indices = okved_consumption['okved_consumer'].map(fix_okved).map(code_to_id)\n",
    "\n",
    "X_bert = np.column_stack((embeddings_bert[prov_indices], embeddings_bert[cons_indices]))\n",
    "X_bert = StandardScaler().fit_transform(X_bert)\n",
    "\n",
    "X_model = np.column_stack((embeddings_model[prov_indices], embeddings_model[cons_indices]))\n",
    "X_model = StandardScaler().fit_transform(X_model)\n",
    "\n",
    "y = okved_consumption['normalized_consumption']"
   ],
   "metadata": {
    "collapsed": false,
    "pycharm": {
     "name": "#%%\n"
    }
   }
  },
  {
   "cell_type": "markdown",
   "source": [
    "### Линейная модель"
   ],
   "metadata": {
    "collapsed": false,
    "pycharm": {
     "name": "#%% md\n"
    }
   }
  },
  {
   "cell_type": "code",
   "execution_count": null,
   "outputs": [],
   "source": [
    "model = LinearRegression().fit(X_model, y)\n",
    "score = model.score(X_model, y)\n",
    "print(f'Модель: {score: 0.4f}')\n",
    "\n",
    "model = LinearRegression().fit(X_bert, y)\n",
    "score = model.score(X_bert, y)\n",
    "print(f'Берт: {score: 0.4f}')"
   ],
   "metadata": {
    "collapsed": false,
    "pycharm": {
     "name": "#%%\n"
    }
   }
  },
  {
   "cell_type": "markdown",
   "source": [
    "### Многослойный перцептрон"
   ],
   "metadata": {
    "collapsed": false,
    "pycharm": {
     "name": "#%% md\n"
    }
   }
  },
  {
   "cell_type": "code",
   "execution_count": null,
   "outputs": [],
   "source": [
    "from models.mlp_regressor import MLPRegressorTorch\n",
    "\n",
    "X_model_th = torch.FloatTensor(X_model).to(device)\n",
    "X_bert_th = torch.FloatTensor(X_bert).to(device)\n",
    "y_th = torch.FloatTensor(y.values).to(device)"
   ],
   "metadata": {
    "collapsed": false,
    "pycharm": {
     "name": "#%%\n"
    }
   }
  },
  {
   "cell_type": "code",
   "execution_count": null,
   "outputs": [],
   "source": [
    "kf = KFold(n_splits=6)\n",
    "\n",
    "model = MLPRegressorTorch(X_model.shape[1], (100,)).to(device)\n",
    "val_scores = []\n",
    "for train, val in kf.split(X_model_th):\n",
    "    model.fit(X_model_th[train], y_th[train], val=[X_model_th[val], y_th[val]], epochs=200)\n",
    "    val_scores.append(model.r2_score(X_model_th[val], y_th[val]))\n",
    "\n",
    "print(f'AVG VAL model R2: {np.mean(val_scores): 0.4f}')"
   ],
   "metadata": {
    "collapsed": false,
    "pycharm": {
     "name": "#%%\n"
    }
   }
  },
  {
   "cell_type": "code",
   "execution_count": null,
   "outputs": [],
   "source": [
    "model = MLPRegressorTorch(X_bert.shape[1], (100,)).to(device)\n",
    "val_scores = []\n",
    "for train, val in kf.split(X_bert_th):\n",
    "    model.fit(X_bert_th[train], y_th[train], val=[X_bert_th[val], y_th[val]], epochs=200)\n",
    "    val_scores.append(model.r2_score(X_bert_th[val], y_th[val]))\n",
    "\n",
    "print(f'AVG VAL bert R2: {np.mean(val_scores): 0.4f}')"
   ],
   "metadata": {
    "collapsed": false,
    "pycharm": {
     "name": "#%%\n"
    }
   }
  },
  {
   "cell_type": "code",
   "execution_count": null,
   "outputs": [],
   "source": [
    "bert_scores = []\n",
    "model_scores = []\n",
    "\n",
    "kf = KFold(n_splits=6)\n",
    "\n",
    "for i in tqdm(range(10)):\n",
    "\n",
    "    model = MLPRegressorTorch(X_model.shape[1], (100,)).to(device)  # эмбеддинги нашей моделью\n",
    "    val_scores = []\n",
    "    # Обучаем модель с помощью кросс валидации\n",
    "    for train, val in kf.split(X_model_th):\n",
    "        # Во время обучения контролируем переобучение с помощью валидационных данных\n",
    "        model.fit(X_model_th[train], y_th[train],\n",
    "                  val=[X_model_th[val], y_th[val]],\n",
    "                  epochs=200)\n",
    "        val_scores.append(model.r2_score(X_model_th[val], y_th[val]))\n",
    "\n",
    "    model_scores.append(np.mean(val_scores))\n",
    "\n",
    "    model = MLPRegressorTorch(X_bert.shape[1], (100,)).to(device)\n",
    "    val_scores = []\n",
    "\n",
    "    for train, val in kf.split(X_bert_th):\n",
    "        model.fit(X_bert_th[train], y_th[train],\n",
    "                  val=[X_bert_th[val], y_th[val]],\n",
    "                  epochs=200)\n",
    "\n",
    "        val_scores.append(model.r2_score(X_bert_th[val], y_th[val]))\n",
    "\n",
    "    bert_scores.append(np.mean(val_scores))"
   ],
   "metadata": {
    "collapsed": false,
    "pycharm": {
     "name": "#%%\n"
    }
   }
  },
  {
   "cell_type": "code",
   "execution_count": 17,
   "metadata": {
    "pycharm": {
     "name": "#%%\n"
    }
   },
   "outputs": [
    {
     "name": "stdout",
     "output_type": "stream",
     "text": [
      "Модель: 0.06 ± 0.06\n",
      "Берт: 0.12 ± 0.10\n"
     ]
    }
   ],
   "source": [
    "print(f'Модель: {np.mean(model_scores):.2f} ± {np.std(model_scores):.2f}')\n",
    "print(f'Берт: {np.mean(bert_scores):.2f} ± {np.std(bert_scores):.2f}')"
   ]
  },
  {
   "cell_type": "code",
   "execution_count": null,
   "metadata": {
    "pycharm": {
     "name": "#%%\n"
    }
   },
   "outputs": [],
   "source": []
  }
 ],
 "metadata": {
  "kernelspec": {
   "display_name": "Python 3 (ipykernel)",
   "language": "python",
   "name": "python3"
  },
  "language_info": {
   "codemirror_mode": {
    "name": "ipython",
    "version": 3
   },
   "file_extension": ".py",
   "mimetype": "text/x-python",
   "name": "python",
   "nbconvert_exporter": "python",
   "pygments_lexer": "ipython3",
   "version": "3.9.7"
  }
 },
 "nbformat": 4,
 "nbformat_minor": 1
}