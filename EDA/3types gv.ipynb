{
 "cells": [
  {
   "cell_type": "code",
   "execution_count": 68,
   "outputs": [],
   "source": [
    "import dgl\n",
    "import pandas as pd\n",
    "\n",
    "okved_g = pd.read_pickle('../data/okved_graph.pickle')\n",
    "okved_data = pd.read_csv('../data/okved_2014_w_sections.csv', index_col=0)"
   ],
   "metadata": {
    "collapsed": false,
    "pycharm": {
     "name": "#%%\n"
    }
   }
  },
  {
   "cell_type": "code",
   "execution_count": 69,
   "outputs": [],
   "source": [
    "# Словари id-шники - коды и коды - id-шники\n",
    "id_to_code = okved_data['native_code'].to_dict()\n",
    "id_to_code[0] = '0'\n",
    "code_to_id = {v: u for u, v in id_to_code.items()}"
   ],
   "metadata": {
    "collapsed": false,
    "pycharm": {
     "name": "#%%\n"
    }
   }
  },
  {
   "cell_type": "code",
   "execution_count": 70,
   "outputs": [
    {
     "data": {
      "text/plain": "1       01\n2       01\n3       01\n4       01\n5       01\n        ..\n2632    97\n2633    98\n2634    98\n2635    98\n2636    99\nName: native_code, Length: 2636, dtype: object"
     },
     "execution_count": 70,
     "metadata": {},
     "output_type": "execute_result"
    }
   ],
   "source": [
    "okved_data['native_code'].str.slice(0, 2)"
   ],
   "metadata": {
    "collapsed": false,
    "pycharm": {
     "name": "#%%\n"
    }
   }
  },
  {
   "cell_type": "code",
   "execution_count": 78,
   "outputs": [
    {
     "data": {
      "text/plain": "(tensor([0, 0, 1, 1, 1, 2, 2, 2, 2, 2, 2, 3, 3, 3, 3, 4]),\n tensor([2, 3, 2, 3, 2, 3, 1, 3, 4, 0, 1, 2, 1, 2, 0, 2]))"
     },
     "execution_count": 78,
     "metadata": {},
     "output_type": "execute_result"
    }
   ],
   "source": [
    "sample_ids = [1894, 1895, 2124, 2125, 2126]\n",
    "sample_codes = okved_data[okved_data['native_code'].str.slice(0, 2).isin(['01', '02'])].index.values\n",
    "g_sample = okved_g.subgraph(sample_ids)\n",
    "g_sample.edges()"
   ],
   "metadata": {
    "collapsed": false,
    "pycharm": {
     "name": "#%%\n"
    }
   }
  },
  {
   "cell_type": "code",
   "execution_count": 91,
   "outputs": [],
   "source": [
    "colors = list(map(lambda x: {0: '#42a59f', 1: '#1d3557', 2: '#907ad6'}[int(x)], g_sample.edata['type']))"
   ],
   "metadata": {
    "collapsed": false,
    "pycharm": {
     "name": "#%%\n"
    }
   }
  },
  {
   "cell_type": "code",
   "execution_count": 92,
   "outputs": [],
   "source": [
    "import os\n",
    "os.environ[\"PATH\"] += os.pathsep + r'C:/Program Files (x86)/Graphviz/bin/'"
   ],
   "metadata": {
    "collapsed": false,
    "pycharm": {
     "name": "#%%\n"
    }
   }
  },
  {
   "cell_type": "code",
   "execution_count": 93,
   "outputs": [
    {
     "data": {
      "text/plain": "'3types_sample.pdf'"
     },
     "execution_count": 93,
     "metadata": {},
     "output_type": "execute_result"
    }
   ],
   "source": [
    "import graphviz\n",
    "\n",
    "G = graphviz.Digraph('G', filename='3types_sample')\n",
    "for i in range(len(g_sample.edges()[0])):\n",
    "    u = id_to_code[sample_ids[g_sample.edges()[0][i]]]\n",
    "    v = id_to_code[sample_ids[g_sample.edges()[1][i]]]\n",
    "    c = colors[i]\n",
    "    G.edge(u, v, color=c)\n",
    "G.edge_attr.update(arrowsize='0.5')\n",
    "G.view()"
   ],
   "metadata": {
    "collapsed": false,
    "pycharm": {
     "name": "#%%\n"
    }
   }
  },
  {
   "cell_type": "code",
   "execution_count": 96,
   "outputs": [
    {
     "data": {
      "text/plain": "{'weight': tensor([ 3,  3,  2,  ..., 13, 24, 43]), 'type': tensor([0, 0, 0,  ..., 2, 2, 2]), 'train_mask': tensor([ True,  True, False,  ...,  True,  True,  True]), 'norm': tensor([0.0130, 0.0130, 0.0131,  ..., 0.0037, 0.0038, 0.0041])}"
     },
     "execution_count": 96,
     "metadata": {},
     "output_type": "execute_result"
    }
   ],
   "source": [
    "okved_g.edata"
   ],
   "metadata": {
    "collapsed": false,
    "pycharm": {
     "name": "#%%\n"
    }
   }
  }
 ],
 "metadata": {
  "kernelspec": {
   "display_name": "Python 3",
   "language": "python",
   "name": "python3"
  },
  "language_info": {
   "codemirror_mode": {
    "name": "ipython",
    "version": 2
   },
   "file_extension": ".py",
   "mimetype": "text/x-python",
   "name": "python",
   "nbconvert_exporter": "python",
   "pygments_lexer": "ipython2",
   "version": "2.7.6"
  }
 },
 "nbformat": 4,
 "nbformat_minor": 0
}