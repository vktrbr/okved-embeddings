{
 "cells": [
  {
   "cell_type": "code",
   "execution_count": 17,
   "outputs": [],
   "source": [
    "import dgl\n",
    "import pandas as pd\n",
    "import torch\n",
    "\n",
    "okved_g = pd.read_pickle('../data/okved_graph.pickle')\n",
    "okved_data = pd.read_csv('../data/okved_2014_w_sections.csv', index_col=0)"
   ],
   "metadata": {
    "collapsed": false,
    "pycharm": {
     "name": "#%%\n"
    }
   }
  },
  {
   "cell_type": "code",
   "execution_count": 2,
   "outputs": [],
   "source": [
    "# Словари id-шники - коды и коды - id-шники\n",
    "id_to_code = okved_data['native_code'].to_dict()\n",
    "id_to_code[0] = '0'\n",
    "code_to_id = {v: u for u, v in id_to_code.items()}"
   ],
   "metadata": {
    "collapsed": false,
    "pycharm": {
     "name": "#%%\n"
    }
   }
  },
  {
   "cell_type": "code",
   "execution_count": 3,
   "outputs": [
    {
     "data": {
      "text/plain": "(tensor([0, 0, 0, 0, 0, 1, 2, 3, 4, 5, 5, 5, 5, 6, 7, 8, 9, 9]),\n tensor([9, 1, 2, 3, 4, 0, 0, 0, 0, 9, 6, 7, 8, 5, 5, 5, 0, 5]))"
     },
     "execution_count": 3,
     "metadata": {},
     "output_type": "execute_result"
    }
   ],
   "source": [
    "sample_codes = okved_data[okved_data['native_code'].str.slice(0, 2) == '59'].index.values\n",
    "g_sample = okved_g.subgraph(sample_codes, store_ids=True)\n",
    "g_sample = g_sample.edge_subgraph(g_sample.edata['type'] == 1, relabel_nodes=False)\n",
    "g_sample.edges()"
   ],
   "metadata": {
    "collapsed": false,
    "pycharm": {
     "name": "#%%\n"
    }
   }
  },
  {
   "cell_type": "code",
   "execution_count": 4,
   "outputs": [],
   "source": [
    "sample_id_to_code = list(map(lambda x: id_to_code[x], g_sample.ndata[dgl.NID].numpy()))\n",
    "sample_id_to_code = dict(zip(range(len(sample_id_to_code)), sample_id_to_code))\n",
    "\n",
    "graph = [g_sample.edges()[0].numpy(), g_sample.edges()[1].numpy()]\n",
    "graph[0] = list(map(lambda x: sample_id_to_code[x], graph[0]))\n",
    "graph[1] = list(map(lambda x: sample_id_to_code[x], graph[1]))\n",
    "graph = pd.DataFrame(graph).T.sort_values(0).reset_index(drop=True)\n",
    "graph = graph.loc[[0, 1, 2, 4, 5, 6, 12, 13, 14]]"
   ],
   "metadata": {
    "collapsed": false,
    "pycharm": {
     "name": "#%%\n"
    }
   }
  },
  {
   "cell_type": "code",
   "execution_count": 9,
   "outputs": [
    {
     "data": {
      "text/plain": "{'weight': tensor([1, 1, 1, 1, 1, 1, 1, 1, 1, 1, 1, 1, 1, 1, 1, 1, 1, 1]), 'type': tensor([1, 1, 1, 1, 1, 1, 1, 1, 1, 1, 1, 1, 1, 1, 1, 1, 1, 1]), 'train_mask': tensor([ True, False,  True,  True,  True, False,  True,  True,  True,  True,\n         True,  True,  True,  True,  True,  True,  True,  True]), 'norm': tensor([0.2582, 0.4472, 0.4472, 0.4472, 0.4472, 0.4472, 0.4472, 0.4472, 0.4472,\n        0.2887, 0.5000, 0.5000, 0.5000, 0.5000, 0.5000, 0.5000, 0.2582, 0.2887]), '_ID': tensor([ 0,  1,  2,  3,  4,  5,  6,  7,  8,  9, 10, 11, 12, 13, 14, 15, 16, 17])}"
     },
     "execution_count": 9,
     "metadata": {},
     "output_type": "execute_result"
    }
   ],
   "source": [
    "g_sample.edata"
   ],
   "metadata": {
    "collapsed": false,
    "pycharm": {
     "name": "#%%\n"
    }
   }
  },
  {
   "cell_type": "code",
   "execution_count": 5,
   "outputs": [
    {
     "data": {
      "text/plain": "       0        1\n0     59     59.2\n1     59     59.1\n2   59.1    59.14\n4   59.1    59.12\n5   59.1    59.11\n6   59.1    59.13\n12  59.2  59.20.1\n13  59.2  59.20.2\n14  59.2  59.20.3",
      "text/html": "<div>\n<style scoped>\n    .dataframe tbody tr th:only-of-type {\n        vertical-align: middle;\n    }\n\n    .dataframe tbody tr th {\n        vertical-align: top;\n    }\n\n    .dataframe thead th {\n        text-align: right;\n    }\n</style>\n<table border=\"1\" class=\"dataframe\">\n  <thead>\n    <tr style=\"text-align: right;\">\n      <th></th>\n      <th>0</th>\n      <th>1</th>\n    </tr>\n  </thead>\n  <tbody>\n    <tr>\n      <th>0</th>\n      <td>59</td>\n      <td>59.2</td>\n    </tr>\n    <tr>\n      <th>1</th>\n      <td>59</td>\n      <td>59.1</td>\n    </tr>\n    <tr>\n      <th>2</th>\n      <td>59.1</td>\n      <td>59.14</td>\n    </tr>\n    <tr>\n      <th>4</th>\n      <td>59.1</td>\n      <td>59.12</td>\n    </tr>\n    <tr>\n      <th>5</th>\n      <td>59.1</td>\n      <td>59.11</td>\n    </tr>\n    <tr>\n      <th>6</th>\n      <td>59.1</td>\n      <td>59.13</td>\n    </tr>\n    <tr>\n      <th>12</th>\n      <td>59.2</td>\n      <td>59.20.1</td>\n    </tr>\n    <tr>\n      <th>13</th>\n      <td>59.2</td>\n      <td>59.20.2</td>\n    </tr>\n    <tr>\n      <th>14</th>\n      <td>59.2</td>\n      <td>59.20.3</td>\n    </tr>\n  </tbody>\n</table>\n</div>"
     },
     "execution_count": 5,
     "metadata": {},
     "output_type": "execute_result"
    }
   ],
   "source": [
    "graph"
   ],
   "metadata": {
    "collapsed": false,
    "pycharm": {
     "name": "#%%\n"
    }
   }
  },
  {
   "cell_type": "code",
   "execution_count": 6,
   "outputs": [],
   "source": [
    "import os\n",
    "os.environ[\"PATH\"] += os.pathsep + r'C:/Program Files (x86)/Graphviz/bin/'"
   ],
   "metadata": {
    "collapsed": false,
    "pycharm": {
     "name": "#%%\n"
    }
   }
  },
  {
   "cell_type": "code",
   "execution_count": 7,
   "outputs": [
    {
     "data": {
      "text/plain": "'59_sample.pdf'"
     },
     "execution_count": 7,
     "metadata": {},
     "output_type": "execute_result"
    }
   ],
   "source": [
    "import graphviz\n",
    "\n",
    "G = graphviz.Digraph('G', filename='59_sample')\n",
    "for _, (u, v) in graph.iterrows():\n",
    "    G.edge(u, v)\n",
    "G.edge_attr.update(arrowsize='0.5')\n",
    "G.view()"
   ],
   "metadata": {
    "collapsed": false,
    "pycharm": {
     "name": "#%%\n"
    }
   }
  },
  {
   "cell_type": "code",
   "execution_count": 12,
   "outputs": [
    {
     "data": {
      "text/plain": "Graph(num_nodes=2637, num_edges=438730,\n      ndata_schemes={'feat': Scheme(shape=(312,), dtype=torch.float64)}\n      edata_schemes={'weight': Scheme(shape=(), dtype=torch.int64), 'type': Scheme(shape=(), dtype=torch.int64), 'train_mask': Scheme(shape=(), dtype=torch.bool), 'norm': Scheme(shape=(), dtype=torch.float32)})"
     },
     "execution_count": 12,
     "metadata": {},
     "output_type": "execute_result"
    }
   ],
   "source": [
    "okved_g"
   ],
   "metadata": {
    "collapsed": false,
    "pycharm": {
     "name": "#%%\n"
    }
   }
  },
  {
   "cell_type": "code",
   "execution_count": 27,
   "outputs": [
    {
     "data": {
      "text/plain": "(tensor([0, 1, 2]), tensor([175868,   5272, 257590]))"
     },
     "execution_count": 27,
     "metadata": {},
     "output_type": "execute_result"
    }
   ],
   "source": [
    "torch.unique(okved_g.edata['type'], return_counts=True)"
   ],
   "metadata": {
    "collapsed": false,
    "pycharm": {
     "name": "#%%\n"
    }
   }
  },
  {
   "cell_type": "code",
   "execution_count": 31,
   "outputs": [
    {
     "name": "stdout",
     "output_type": "stream",
     "text": [
      "\\begin{tabular}{lr}\n",
      "{} & { } \\\\\n",
      "Количество узлов & 2637 \\\\\n",
      "Связей типа 0 & 175868 \\\\\n",
      "Связей типа 1 & 5272 \\\\\n",
      "Связей типа 2 & 257590 \\\\\n",
      "Общее количество связей & 438730 \\\\\n",
      "\\end{tabular}\n",
      "\n"
     ]
    }
   ],
   "source": [
    "info_table = pd.DataFrame({' ': [2637, 175868, 5272, 257590, 438730]},\n",
    "                          index=['Количество узлов', 'Связей типа 0', 'Связей типа 1', 'Связей типа 2', 'Общее количество связей'])\n",
    "print(info_table.style.to_latex())"
   ],
   "metadata": {
    "collapsed": false,
    "pycharm": {
     "name": "#%%\n"
    }
   }
  },
  {
   "cell_type": "code",
   "execution_count": null,
   "outputs": [],
   "source": [],
   "metadata": {
    "collapsed": false,
    "pycharm": {
     "name": "#%%\n"
    }
   }
  }
 ],
 "metadata": {
  "kernelspec": {
   "display_name": "Python 3",
   "language": "python",
   "name": "python3"
  },
  "language_info": {
   "codemirror_mode": {
    "name": "ipython",
    "version": 2
   },
   "file_extension": ".py",
   "mimetype": "text/x-python",
   "name": "python",
   "nbconvert_exporter": "python",
   "pygments_lexer": "ipython2",
   "version": "2.7.6"
  }
 },
 "nbformat": 4,
 "nbformat_minor": 0
}