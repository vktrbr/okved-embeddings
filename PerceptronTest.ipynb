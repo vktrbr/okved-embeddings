{
 "cells": [
  {
   "cell_type": "markdown",
   "source": [
    "## процесс кросс-валидации модели двухслойной нн"
   ],
   "metadata": {
    "collapsed": false,
    "pycharm": {
     "name": "#%% md\n"
    }
   }
  },
  {
   "cell_type": "code",
   "execution_count": null,
   "metadata": {
    "collapsed": true,
    "pycharm": {
     "name": "#%%\n"
    }
   },
   "outputs": [],
   "source": [
    "from models.mlp_regressor import MLPRegressorTorch\n",
    "\n",
    "X_model_th = torch.FloatTensor(X_model).to(device)\n",
    "X_bert_th = torch.FloatTensor(X_bert).to(device)\n",
    "y_th = torch.FloatTensor(y.values).to(device)\n",
    "\n",
    "bert_scores = []\n",
    "model_scores = []\n",
    "\n",
    "bert_scores_all = []\n",
    "model_scores_all = []\n",
    "\n",
    "kf = KFold(n_splits=5)\n",
    "\n",
    "for j in tqdm(range(10)):\n",
    "\n",
    "    val_scores = []\n",
    "    # Проверяем эффективность модели с помощью кросс валидации\n",
    "    for i, (train, val) in enumerate(kf.split(X_model_th)):\n",
    "        model_nn = MLPRegressorTorch(X_model.shape[1], (100,)).to(device)  # эмбеддинги нашей моделью\n",
    "        model_nn.fit(X_model_th[train], y_th[train],\n",
    "                     val=[X_model_th[val], y_th[val]],\n",
    "                     epochs=100)\n",
    "        val_scores.append(model_nn.r2_score(X_model_th[val], y_th[val]))\n",
    "\n",
    "    model_scores.append(numpy.mean(val_scores))\n",
    "    model_scores_all.append(model_nn.r2_score(X_model_th, y_th))\n",
    "\n",
    "\n",
    "    val_scores = []\n",
    "\n",
    "    for i, (train, val) in enumerate(kf.split(X_model_th)):\n",
    "        model_nn = MLPRegressorTorch(X_bert.shape[1], (100,)).to(device)\n",
    "        model_nn.fit(X_bert_th[train], y_th[train],\n",
    "                     val=[X_bert_th[val], y_th[val]],\n",
    "                     epochs=100)\n",
    "        val_scores.append(model_nn.r2_score(X_bert_th[val], y_th[val]))\n",
    "\n",
    "    bert_scores.append(numpy.mean(val_scores))\n",
    "    bert_scores_all.append(model_nn.r2_score(X_bert_th, y_th))"
   ]
  }
 ],
 "metadata": {
  "kernelspec": {
   "display_name": "Python 3",
   "language": "python",
   "name": "python3"
  },
  "language_info": {
   "codemirror_mode": {
    "name": "ipython",
    "version": 2
   },
   "file_extension": ".py",
   "mimetype": "text/x-python",
   "name": "python",
   "nbconvert_exporter": "python",
   "pygments_lexer": "ipython2",
   "version": "2.7.6"
  }
 },
 "nbformat": 4,
 "nbformat_minor": 0
}